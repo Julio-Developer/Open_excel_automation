{
 "cells": [
  {
   "cell_type": "markdown",
   "id": "7023c4ec",
   "metadata": {},
   "source": [
    "# This programs is for learning automation"
   ]
  },
  {
   "cell_type": "code",
   "execution_count": 80,
   "id": "8329710b",
   "metadata": {},
   "outputs": [],
   "source": [
    "# -*- coding: utf-8 -*-excel"
   ]
  },
  {
   "cell_type": "code",
   "execution_count": 81,
   "id": "806113d8",
   "metadata": {},
   "outputs": [],
   "source": [
    "import pyautogui as pg"
   ]
  },
  {
   "cell_type": "markdown",
   "id": "b9f5a463",
   "metadata": {},
   "source": [
    "# Getting the mouse positon\n",
    "pg.sleep(6)\n",
    "print(pg.position())"
   ]
  },
  {
   "cell_type": "code",
   "execution_count": 82,
   "id": "f648596a",
   "metadata": {},
   "outputs": [],
   "source": [
    "# Clicking on a defined position\n",
    "pg.moveTo(x=713, y=1054)\n",
    "pg.sleep(2)\n",
    "pg.click(x=713, y=1054)"
   ]
  },
  {
   "cell_type": "code",
   "execution_count": 83,
   "id": "72765d92",
   "metadata": {},
   "outputs": [],
   "source": [
    "# Search for Excel\n",
    "pg.typewrite('excel')"
   ]
  },
  {
   "cell_type": "markdown",
   "id": "fcb97586",
   "metadata": {},
   "source": [
    "# Opened excel\n",
    "pg.sleep(6)\n",
    "print(pg.position())"
   ]
  },
  {
   "cell_type": "code",
   "execution_count": 84,
   "id": "6267f000",
   "metadata": {},
   "outputs": [],
   "source": [
    "# Opening the excel\n",
    "pg.sleep(2)\n",
    "pg.click(x=815, y=530)"
   ]
  },
  {
   "cell_type": "code",
   "execution_count": null,
   "id": "a7e8f497",
   "metadata": {},
   "outputs": [],
   "source": []
  }
 ],
 "metadata": {
  "kernelspec": {
   "display_name": "Python 3 (ipykernel)",
   "language": "python",
   "name": "python3"
  },
  "language_info": {
   "codemirror_mode": {
    "name": "ipython",
    "version": 3
   },
   "file_extension": ".py",
   "mimetype": "text/x-python",
   "name": "python",
   "nbconvert_exporter": "python",
   "pygments_lexer": "ipython3",
   "version": "3.10.4"
  }
 },
 "nbformat": 4,
 "nbformat_minor": 5
}
